{
 "cells": [
  {
   "cell_type": "code",
   "execution_count": 4,
   "id": "984178f6-6b79-4b03-8e5b-4db724a8a10a",
   "metadata": {},
   "outputs": [
    {
     "name": "stdout",
     "output_type": "stream",
     "text": [
      "1\n",
      "2\n",
      "3\n",
      "4\n",
      "5\n"
     ]
    }
   ],
   "source": [
    "#Q.1\n",
    "\n",
    "#while loop is used to run a block of code until a certain condition is met\n",
    "\n",
    "i=1\n",
    "while i<=5:\n",
    "    print(i)\n",
    "    i=i+1"
   ]
  },
  {
   "cell_type": "code",
   "execution_count": 5,
   "id": "1f05a3cd-139a-46c6-99d4-a692de68315b",
   "metadata": {},
   "outputs": [
    {
     "name": "stdout",
     "output_type": "stream",
     "text": [
      "0\n",
      "1\n",
      "2\n",
      "3\n",
      "4\n"
     ]
    }
   ],
   "source": [
    "# for loop executes block of  code  repeatedly for a paricular number of iterations\n",
    "\n",
    "for i in range(5):\n",
    "    print(i)"
   ]
  },
  {
   "cell_type": "code",
   "execution_count": 30,
   "id": "e8e257ae-b696-46c1-adf3-d9d81ff5bb5c",
   "metadata": {},
   "outputs": [
    {
     "name": "stdin",
     "output_type": "stream",
     "text": [
      "n: 10\n"
     ]
    },
    {
     "name": "stdout",
     "output_type": "stream",
     "text": [
      "sum= 55\n",
      "product= 3628800\n"
     ]
    }
   ],
   "source": [
    "#Q.2\n",
    "n=int(input(\"n:\"))\n",
    "if n<0:\n",
    "    print(\"invalid\")\n",
    "else:\n",
    "    sum=0\n",
    "    product=1\n",
    "    for i in range(1,n+1):\n",
    "        sum=sum+i\n",
    "        product*=i\n",
    "\n",
    "    print(\"sum=\",sum) \n",
    "    print(\"product=\",product)\n",
    " "
   ]
  },
  {
   "cell_type": "code",
   "execution_count": null,
   "id": "fd37eec2-cb8b-49ef-94d0-1d2975ab2a68",
   "metadata": {},
   "outputs": [],
   "source": []
  },
  {
   "cell_type": "code",
   "execution_count": null,
   "id": "2495e7c3-3073-4cf9-9c99-04aebf42cfa6",
   "metadata": {},
   "outputs": [],
   "source": [
    "n=int(input(\"n:\"))\n",
    "sum=0\n",
    "product=1\n",
    "i=1\n",
    "while(i<=n):\n",
    "    sum=sum+i\n",
    "    product*=i   \n",
    "      \n",
    "    i=i+1\n",
    "      \n",
    "print(sum) \n",
    "print(product)\n",
    "      \n",
    "     \n",
    "      "
   ]
  },
  {
   "cell_type": "code",
   "execution_count": 41,
   "id": "9ef05b27-046d-415f-b406-84713332e249",
   "metadata": {},
   "outputs": [],
   "source": [
    "#Q.3\n",
    "def calculatebill(units):\n",
    "    if(units<=100):\n",
    "        return units*4.5\n",
    "    elif(units<=200):\n",
    "        return ((100*4.5)+(units-100)*6)\n",
    "    elif(units<=300):\n",
    "        return ((100*4.5)+(100*6)+(units-200)*10)\n",
    "    else:\n",
    "        return ((100*4.5)+(100*6)+(100*10)+(units-300)*20)"
   ]
  },
  {
   "cell_type": "code",
   "execution_count": 42,
   "id": "40853e8f-a648-4278-80a6-ac285bd09eae",
   "metadata": {},
   "outputs": [
    {
     "data": {
      "text/plain": [
       "2250.0"
      ]
     },
     "execution_count": 42,
     "metadata": {},
     "output_type": "execute_result"
    }
   ],
   "source": [
    "calculatebill(310)"
   ]
  },
  {
   "cell_type": "code",
   "execution_count": 2,
   "id": "dbefe6ef-6b41-4ff1-ab1e-1398762b7d1d",
   "metadata": {},
   "outputs": [
    {
     "name": "stdout",
     "output_type": "stream",
     "text": [
      "[1, 8, 27, 64, 125, 216, 343, 512, 729, 1000, 1331, 1728, 2197, 2744, 3375, 4096, 4913, 5832, 6859, 8000, 9261, 10648, 12167, 13824, 15625, 17576, 19683, 21952, 24389, 27000, 29791, 32768, 35937, 39304, 42875, 46656, 50653, 54872, 59319, 64000, 68921, 74088, 79507, 85184, 91125, 97336, 103823, 110592, 117649, 125000, 132651, 140608, 148877, 157464, 166375, 175616, 185193, 195112, 205379, 216000, 226981, 238328, 250047, 262144, 274625, 287496, 300763, 314432, 328509, 343000, 357911, 373248, 389017, 405224, 421875, 438976, 456533, 474552, 493039, 512000, 531441, 551368, 571787, 592704, 614125, 636056, 658503, 681472, 704969, 729000, 753571, 778688, 804357, 830584, 857375, 884736, 912673, 941192, 970299, 1000000]\n",
      "[8, 64, 125, 216, 512, 1000, 1728, 2744, 3375, 4096, 5832, 8000, 10648, 13824, 15625, 17576, 21952, 27000, 32768, 39304, 42875, 46656, 54872, 64000, 74088, 85184, 91125, 97336, 110592, 125000, 140608, 157464, 166375, 175616, 195112, 216000, 238328, 262144, 274625, 287496, 314432, 343000, 373248, 405224, 421875, 438976, 474552, 512000, 551368, 592704, 614125, 636056, 681472, 729000, 778688, 830584, 857375, 884736, 941192, 1000000]\n"
     ]
    }
   ],
   "source": [
    "#Q.4\n",
    "list=range(1,101)\n",
    "res=[]\n",
    "for i in list:\n",
    "    res.append(i**3)\n",
    "print(res)  \n",
    "my_list=[i for i in res if i%4==0 or i%5==0]\n",
    "print(my_list)"
   ]
  },
  {
   "cell_type": "code",
   "execution_count": 5,
   "id": "148a7a44-bb8e-4009-926c-16ba2c20f53e",
   "metadata": {},
   "outputs": [
    {
     "name": "stdout",
     "output_type": "stream",
     "text": [
      "[1, 8, 27, 64, 125, 216, 343, 512, 729, 1000, 1331, 1728, 2197, 2744, 3375, 4096, 4913, 5832, 6859, 8000, 9261, 10648, 12167, 13824, 15625, 17576, 19683, 21952, 24389, 27000, 29791, 32768, 35937, 39304, 42875, 46656, 50653, 54872, 59319, 64000, 68921, 74088, 79507, 85184, 91125, 97336, 103823, 110592, 117649, 125000, 132651, 140608, 148877, 157464, 166375, 175616, 185193, 195112, 205379, 216000, 226981, 238328, 250047, 262144, 274625, 287496, 300763, 314432, 328509, 343000, 357911, 373248, 389017, 405224, 421875, 438976, 456533, 474552, 493039, 512000, 531441, 551368, 571787, 592704, 614125, 636056, 658503, 681472, 704969, 729000, 753571, 778688, 804357, 830584, 857375, 884736, 912673, 941192, 970299, 1000000]\n",
      "[8, 64, 125, 216, 512, 1000, 1728, 2744, 3375, 4096, 5832, 8000, 10648, 13824, 15625, 17576, 21952, 27000, 32768, 39304, 42875, 46656, 54872, 64000, 74088, 85184, 91125, 97336, 110592, 125000, 140608, 157464, 166375, 175616, 195112, 216000, 238328, 262144, 274625, 287496, 314432, 343000, 373248, 405224, 421875, 438976, 474552, 512000, 551368, 592704, 614125, 636056, 681472, 729000, 778688, 830584, 857375, 884736, 941192, 1000000]\n"
     ]
    }
   ],
   "source": [
    "l=[]\n",
    "i=1\n",
    "while i<=100:\n",
    "    l.append(i*i*i)\n",
    "    i+=1\n",
    "print(l)    \n",
    "my_list=[i for i in res if i%4==0 or i%5==0]\n",
    "print(my_list)   \n",
    " \n",
    "    \n"
   ]
  },
  {
   "cell_type": "code",
   "execution_count": 73,
   "id": "0ea5b728-f65a-42fa-9f8f-d2abd41e0389",
   "metadata": {},
   "outputs": [
    {
     "name": "stdout",
     "output_type": "stream",
     "text": [
      "12\n"
     ]
    }
   ],
   "source": [
    "#Q.5\n",
    "str=\"I want to become a data scientist\"\n",
    "count=0\n",
    "vowel=set(\"aeiouAEIOU\")\n",
    "for alphabet in str:\n",
    "    if alphabet in vowel:\n",
    "        count=count+1\n",
    "print(count)   "
   ]
  },
  {
   "cell_type": "code",
   "execution_count": null,
   "id": "4489eaa8-0877-4e6b-acab-7228af909995",
   "metadata": {},
   "outputs": [],
   "source": []
  }
 ],
 "metadata": {
  "kernelspec": {
   "display_name": "Python 3 (ipykernel)",
   "language": "python",
   "name": "python3"
  },
  "language_info": {
   "codemirror_mode": {
    "name": "ipython",
    "version": 3
   },
   "file_extension": ".py",
   "mimetype": "text/x-python",
   "name": "python",
   "nbconvert_exporter": "python",
   "pygments_lexer": "ipython3",
   "version": "3.10.8"
  }
 },
 "nbformat": 4,
 "nbformat_minor": 5
}
